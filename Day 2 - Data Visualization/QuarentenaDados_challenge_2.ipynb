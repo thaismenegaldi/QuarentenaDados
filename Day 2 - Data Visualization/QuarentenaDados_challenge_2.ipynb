{
 "cells": [
  {
   "cell_type": "markdown",
   "metadata": {},
   "source": [
    "# #QuarentenaDados"
   ]
  },
  {
   "cell_type": "code",
   "execution_count": 1,
   "metadata": {},
   "outputs": [],
   "source": [
    "import os\n",
    "import numpy as np\n",
    "import pandas as pd\n",
    "import seaborn as sns\n",
    "import matplotlib.pyplot as plt\n",
    "from IPython.display import display, Markdown"
   ]
  },
  {
   "cell_type": "markdown",
   "metadata": {},
   "source": [
    "## Reading [MovieLens](https://grouplens.org/datasets/movielens/) data"
   ]
  },
  {
   "cell_type": "code",
   "execution_count": 2,
   "metadata": {},
   "outputs": [],
   "source": [
    "movies = pd.read_csv('../Files/movies.csv')\n",
    "movies_ratings = pd.read_csv('../Files/ratings.csv')"
   ]
  },
  {
   "cell_type": "code",
   "execution_count": 3,
   "metadata": {
    "scrolled": true
   },
   "outputs": [],
   "source": [
    "average_ratings = movies_ratings.groupby('movieId')['rating'].mean()\n",
    "movies = movies.join(average_ratings, on='movieId')"
   ]
  },
  {
   "cell_type": "code",
   "execution_count": 4,
   "metadata": {
    "scrolled": false
   },
   "outputs": [
    {
     "name": "stdout",
     "output_type": "stream",
     "text": [
      "Average ratings of movie:  0    Toy Story (1995)\n",
      "Name: title, dtype: object 3.9209302325581397\n"
     ]
    },
    {
     "data": {
      "image/png": "[encoded data removed]",
      "text/plain": [
       "<Figure size 432x288 with 1 Axes>"
      ]
     },
     "metadata": {
      "needs_background": "light"
     },
     "output_type": "display_data"
    }
   ],
   "source": [
    "ratings_movie_1 = movies_ratings.query('movieId == 1')['rating']\n",
    "print(\"Average ratings of movie: \", movies.query('movieId == 1')['title'], ratings_movie_1.mean())\n",
    "ratings_movie_1.plot(kind='hist')\n",
    "plt.show()"
   ]
  },
  {
   "cell_type": "code",
   "execution_count": 5,
   "metadata": {
    "scrolled": false
   },
   "outputs": [
    {
     "name": "stdout",
     "output_type": "stream",
     "text": [
      "Average ratings of movie:  1    Jumanji (1995)\n",
      "Name: title, dtype: object 3.4318181818181817\n"
     ]
    },
    {
     "data": {
      "image/png": "[encoded data removed]",
      "text/plain": [
       "<Figure size 432x288 with 1 Axes>"
      ]
     },
     "metadata": {
      "needs_background": "light"
     },
     "output_type": "display_data"
    }
   ],
   "source": [
    "ratings_movie_1 = movies_ratings.query('movieId == 2')['rating']\n",
    "print(\"Average ratings of movie: \", movies.query('movieId == 2')['title'], ratings_movie_1.mean())\n",
    "ratings_movie_1.plot(kind='hist')\n",
    "plt.show()"
   ]
  },
  {
   "cell_type": "code",
   "execution_count": 6,
   "metadata": {},
   "outputs": [
    {
     "data": {
      "text/html": [
       "<div>\n",
       "<style scoped>\n",
       "    .dataframe tbody tr th:only-of-type {\n",
       "        vertical-align: middle;\n",
       "    }\n",
       "\n",
       "    .dataframe tbody tr th {\n",
       "        vertical-align: top;\n",
       "    }\n",
       "\n",
       "    .dataframe thead th {\n",
       "        text-align: right;\n",
       "    }\n",
       "</style>\n",
       "<table border=\"1\" class=\"dataframe\">\n",
       "  <thead>\n",
       "    <tr style=\"text-align: right;\">\n",
       "      <th></th>\n",
       "      <th>movieId</th>\n",
       "      <th>title</th>\n",
       "      <th>genres</th>\n",
       "      <th>average_rating</th>\n",
       "      <th>number_of_ratings</th>\n",
       "    </tr>\n",
       "  </thead>\n",
       "  <tbody>\n",
       "    <tr>\n",
       "      <th>0</th>\n",
       "      <td>1</td>\n",
       "      <td>Toy Story (1995)</td>\n",
       "      <td>Adventure|Animation|Children|Comedy|Fantasy</td>\n",
       "      <td>3.92</td>\n",
       "      <td>215.0</td>\n",
       "    </tr>\n",
       "    <tr>\n",
       "      <th>1</th>\n",
       "      <td>2</td>\n",
       "      <td>Jumanji (1995)</td>\n",
       "      <td>Adventure|Children|Fantasy</td>\n",
       "      <td>3.43</td>\n",
       "      <td>110.0</td>\n",
       "    </tr>\n",
       "    <tr>\n",
       "      <th>2</th>\n",
       "      <td>3</td>\n",
       "      <td>Grumpier Old Men (1995)</td>\n",
       "      <td>Comedy|Romance</td>\n",
       "      <td>3.26</td>\n",
       "      <td>52.0</td>\n",
       "    </tr>\n",
       "    <tr>\n",
       "      <th>3</th>\n",
       "      <td>4</td>\n",
       "      <td>Waiting to Exhale (1995)</td>\n",
       "      <td>Comedy|Drama|Romance</td>\n",
       "      <td>2.36</td>\n",
       "      <td>7.0</td>\n",
       "    </tr>\n",
       "    <tr>\n",
       "      <th>4</th>\n",
       "      <td>5</td>\n",
       "      <td>Father of the Bride Part II (1995)</td>\n",
       "      <td>Comedy</td>\n",
       "      <td>3.07</td>\n",
       "      <td>49.0</td>\n",
       "    </tr>\n",
       "  </tbody>\n",
       "</table>\n",
       "</div>"
      ],
      "text/plain": [
       "   movieId                               title  \\\n",
       "0        1                    Toy Story (1995)   \n",
       "1        2                      Jumanji (1995)   \n",
       "2        3             Grumpier Old Men (1995)   \n",
       "3        4            Waiting to Exhale (1995)   \n",
       "4        5  Father of the Bride Part II (1995)   \n",
       "\n",
       "                                        genres  average_rating  \\\n",
       "0  Adventure|Animation|Children|Comedy|Fantasy            3.92   \n",
       "1                   Adventure|Children|Fantasy            3.43   \n",
       "2                               Comedy|Romance            3.26   \n",
       "3                         Comedy|Drama|Romance            2.36   \n",
       "4                                       Comedy            3.07   \n",
       "\n",
       "   number_of_ratings  \n",
       "0              215.0  \n",
       "1              110.0  \n",
       "2               52.0  \n",
       "3                7.0  \n",
       "4               49.0  "
      ]
     },
     "execution_count": 6,
     "metadata": {},
     "output_type": "execute_result"
    }
   ],
   "source": [
    "# Changes made to challenges 2, 3 and 4 of the first class\n",
    "\n",
    "movies = movies.rename(columns={'rating': 'average_rating'})\n",
    "\n",
    "number_of_ratings = movies_ratings.groupby('movieId')['rating'].count()\n",
    "movies = movies.join(number_of_ratings, on='movieId')\n",
    "\n",
    "movies = movies.rename(columns={'rating': 'number_of_ratings'})\n",
    "\n",
    "movies['average_rating'] = movies['average_rating'].round(2)\n",
    "movies.head()"
   ]
  },
  {
   "cell_type": "markdown",
   "metadata": {},
   "source": [
    "## Challenge 1 by [Guilherme Silveira](https://www.linkedin.com/in/guilhermeazevedosilveira/)\n",
    "\n",
    "Rotate the thicks (the names of the genres) of the green bar graph (the last one), in order to make the legends more readable."
   ]
  },
  {
   "cell_type": "code",
   "execution_count": 7,
   "metadata": {},
   "outputs": [
    {
     "data": {
      "image/png": "[encoded data removed]",
      "text/plain": [
       "<Figure size 936x576 with 1 Axes>"
      ]
     },
     "metadata": {},
     "output_type": "display_data"
    }
   ],
   "source": [
    "sns.set_style(\"whitegrid\")\n",
    "\n",
    "movies_by_genre = movies[\"genres\"].str.get_dummies('|').sum().sort_values(ascending=False)\n",
    "plt.figure(figsize=(13,8))\n",
    "sns.barplot(x=movies_by_genre.index,\n",
    "            y=movies_by_genre.values,\n",
    "            palette=sns.color_palette(\"BuGn_r\", n_colors=len(movies_by_genre) + 4))\n",
    "\n",
    "plt.xticks(rotation=90)\n",
    "plt.show()"
   ]
  },
  {
   "cell_type": "markdown",
   "metadata": {},
   "source": [
    "## Challenge 2 by [Paulo Silveira](https://twitter.com/paulo_caelum)\n",
    "\n",
    "\n",
    "To find several films with similar averages and different distributions, use the **movie_plot (n)** function to plot."
   ]
  },
  {
   "cell_type": "code",
   "execution_count": 8,
   "metadata": {},
   "outputs": [],
   "source": [
    "def movie_plot(n):\n",
    "    find_id = 'movieId' + '==' + str(n)\n",
    "    rating_movie = movies_ratings.query(find_id)[\"rating\"]\n",
    "    print('\\n')\n",
    "    print('Movie: ', filtered_movies.query(find_id)[\"title\"])\n",
    "    \n",
    "    plt.figure(figsize = (13,8))\n",
    "#     plt.subplot(1, 2, 1)\n",
    "    rating_movie.plot(kind='hist')\n",
    "    \n",
    "#     plt.subplot(1, 2, 2)\n",
    "#     rating_movie.plot.box(vert=False)\n",
    "    plt.show()\n",
    "    print(rating_movie.describe())"
   ]
  },
  {
   "cell_type": "code",
   "execution_count": 9,
   "metadata": {},
   "outputs": [
    {
     "data": {
      "text/html": [
       "<div>\n",
       "<style scoped>\n",
       "    .dataframe tbody tr th:only-of-type {\n",
       "        vertical-align: middle;\n",
       "    }\n",
       "\n",
       "    .dataframe tbody tr th {\n",
       "        vertical-align: top;\n",
       "    }\n",
       "\n",
       "    .dataframe thead th {\n",
       "        text-align: right;\n",
       "    }\n",
       "</style>\n",
       "<table border=\"1\" class=\"dataframe\">\n",
       "  <thead>\n",
       "    <tr style=\"text-align: right;\">\n",
       "      <th></th>\n",
       "      <th>movieId</th>\n",
       "      <th>title</th>\n",
       "      <th>genres</th>\n",
       "      <th>average_rating</th>\n",
       "      <th>number_of_ratings</th>\n",
       "    </tr>\n",
       "  </thead>\n",
       "  <tbody>\n",
       "    <tr>\n",
       "      <th>551</th>\n",
       "      <td>661</td>\n",
       "      <td>James and the Giant Peach (1996)</td>\n",
       "      <td>Adventure|Animation|Children|Fantasy|Musical</td>\n",
       "      <td>3.45</td>\n",
       "      <td>49.0</td>\n",
       "    </tr>\n",
       "    <tr>\n",
       "      <th>2808</th>\n",
       "      <td>3753</td>\n",
       "      <td>Patriot, The (2000)</td>\n",
       "      <td>Action|Drama|War</td>\n",
       "      <td>3.45</td>\n",
       "      <td>68.0</td>\n",
       "    </tr>\n",
       "    <tr>\n",
       "      <th>9430</th>\n",
       "      <td>166461</td>\n",
       "      <td>Moana (2016)</td>\n",
       "      <td>Adventure|Animation|Children|Comedy|Fantasy</td>\n",
       "      <td>3.45</td>\n",
       "      <td>10.0</td>\n",
       "    </tr>\n",
       "    <tr>\n",
       "      <th>513</th>\n",
       "      <td>596</td>\n",
       "      <td>Pinocchio (1940)</td>\n",
       "      <td>Animation|Children|Fantasy|Musical</td>\n",
       "      <td>3.45</td>\n",
       "      <td>60.0</td>\n",
       "    </tr>\n",
       "    <tr>\n",
       "      <th>2537</th>\n",
       "      <td>3397</td>\n",
       "      <td>Great Muppet Caper, The (1981)</td>\n",
       "      <td>Children|Comedy</td>\n",
       "      <td>3.45</td>\n",
       "      <td>11.0</td>\n",
       "    </tr>\n",
       "  </tbody>\n",
       "</table>\n",
       "</div>"
      ],
      "text/plain": [
       "      movieId                             title  \\\n",
       "551       661  James and the Giant Peach (1996)   \n",
       "2808     3753               Patriot, The (2000)   \n",
       "9430   166461                      Moana (2016)   \n",
       "513       596                  Pinocchio (1940)   \n",
       "2537     3397    Great Muppet Caper, The (1981)   \n",
       "\n",
       "                                            genres  average_rating  \\\n",
       "551   Adventure|Animation|Children|Fantasy|Musical            3.45   \n",
       "2808                              Action|Drama|War            3.45   \n",
       "9430   Adventure|Animation|Children|Comedy|Fantasy            3.45   \n",
       "513             Animation|Children|Fantasy|Musical            3.45   \n",
       "2537                               Children|Comedy            3.45   \n",
       "\n",
       "      number_of_ratings  \n",
       "551                49.0  \n",
       "2808               68.0  \n",
       "9430               10.0  \n",
       "513                60.0  \n",
       "2537               11.0  "
      ]
     },
     "execution_count": 9,
     "metadata": {},
     "output_type": "execute_result"
    }
   ],
   "source": [
    "sorted_movies = movies.sort_values('average_rating', ascending=False)\n",
    "filtered_movies = sorted_movies[(sorted_movies['average_rating'] >= 3.0) & (sorted_movies['average_rating'] <= 3.5)][1000:1050]\n",
    "filtered_movies.head()"
   ]
  },
  {
   "cell_type": "code",
   "execution_count": 10,
   "metadata": {
    "scrolled": true
   },
   "outputs": [
    {
     "name": "stdout",
     "output_type": "stream",
     "text": [
      "\n",
      "\n",
      "Movie:  551    James and the Giant Peach (1996)\n",
      "Name: title, dtype: object\n"
     ]
    },
    {
     "data": {
      "image/png": "[encoded data removed]",
      "text/plain": [
       "<Figure size 936x576 with 1 Axes>"
      ]
     },
     "metadata": {},
     "output_type": "display_data"
    },
    {
     "name": "stdout",
     "output_type": "stream",
     "text": [
      "count    49.00000\n",
      "mean      3.44898\n",
      "std       1.02187\n",
      "min       1.00000\n",
      "25%       3.00000\n",
      "50%       3.00000\n",
      "75%       4.00000\n",
      "max       5.00000\n",
      "Name: rating, dtype: float64\n",
      "\n",
      "\n",
      "Movie:  2808    Patriot, The (2000)\n",
      "Name: title, dtype: object\n"
     ]
    },
    {
     "data": {
      "image/png": "[encoded data removed]",
      "text/plain": [
       "<Figure size 936x576 with 1 Axes>"
      ]
     },
     "metadata": {},
     "output_type": "display_data"
    },
    {
     "name": "stdout",
     "output_type": "stream",
     "text": [
      "count    68.000000\n",
      "mean      3.448529\n",
      "std       1.037145\n",
      "min       0.500000\n",
      "25%       3.000000\n",
      "50%       4.000000\n",
      "75%       4.000000\n",
      "max       5.000000\n",
      "Name: rating, dtype: float64\n"
     ]
    }
   ],
   "source": [
    "for ID in filtered_movies['movieId'].values[0:2]:\n",
    "    movie_plot(ID)"
   ]
  },
  {
   "cell_type": "markdown",
   "metadata": {},
   "source": [
    "## Challenge 3 by [Paulo Silveira](https://twitter.com/paulo_caelum)\n",
    "\n",
    "Create the boxplot of the 10 films with the most votes (it is not with the highest average, it is with the most votes!). Not only plot, but also analyze and try to draw conclusions."
   ]
  },
  {
   "cell_type": "code",
   "execution_count": 11,
   "metadata": {},
   "outputs": [],
   "source": [
    "most_rated = movies.sort_values('number_of_ratings', ascending=False)[0:10]\n",
    "top_10 = most_rated['movieId'].values\n",
    "top_10 = list(top_10)"
   ]
  },
  {
   "cell_type": "code",
   "execution_count": 12,
   "metadata": {
    "scrolled": false
   },
   "outputs": [
    {
     "data": {
      "image/png": "[encoded data removed]",
      "text/plain": [
       "<Figure size 936x432 with 1 Axes>"
      ]
     },
     "metadata": {},
     "output_type": "display_data"
    }
   ],
   "source": [
    "plt.figure(figsize=(13,6))\n",
    "\n",
    "sns.boxplot(data=movies_ratings.query('movieId in [356, 318, 296, 593, 2571, 260, 480, 110, 589, 527]'), x='movieId', y='rating')\n",
    "plt.show()"
   ]
  },
  {
   "cell_type": "markdown",
   "metadata": {},
   "source": [
    "## Challenge 4 by [Guilherme Silveira](https://www.linkedin.com/in/guilhermeazevedosilveira/)\n",
    "\n",
    "Configure the view of the boxplot generated by seaborn (last boxplot plotted in class). Configure the size and put the name of the movies in the thicks."
   ]
  },
  {
   "cell_type": "code",
   "execution_count": 13,
   "metadata": {
    "scrolled": false
   },
   "outputs": [
    {
     "data": {
      "image/png": "[encoded data removed]",
      "text/plain": [
       "<Figure size 936x432 with 1 Axes>"
      ]
     },
     "metadata": {},
     "output_type": "display_data"
    }
   ],
   "source": [
    "plt.figure(figsize=(13,6))\n",
    "\n",
    "sns.boxplot(data=movies_ratings.query('movieId in [356, 318, 296, 593, 2571, 260, 480, 110, 589, 527]'), x='movieId', y='rating')\n",
    "box_movies = movies.query('movieId in [356, 318, 296, 593, 2571, 260, 480, 110, 589, 527]')['title']\n",
    "\n",
    "plt.xticks(np.arange(0,len(top_10)), box_movies, rotation=90)\n",
    "plt.show()"
   ]
  },
  {
   "cell_type": "markdown",
   "metadata": {},
   "source": [
    "## Challenge 5 by [Allan Spadini](https://twitter.com/allanspadini)\n",
    "\n",
    "Calculate fashion, average and median of the films. Explore films with notes closer to 0.5, 3 and 5."
   ]
  },
  {
   "cell_type": "code",
   "execution_count": 14,
   "metadata": {
    "scrolled": true
   },
   "outputs": [],
   "source": [
    "def movie_stats(average_rating):\n",
    "\n",
    "    movie = movies.sort_values('number_of_ratings', ascending=False)[movies['average_rating'] == average_rating].iloc[0,:]\n",
    "    ratings = movies_ratings[movies_ratings['movieId'] == movie['movieId']]['rating']\n",
    "\n",
    "    print(\"\\nMovie:\", movie['title'])\n",
    "    print(\"\\nMode:\", ratings.mode().values[0])\n",
    "    print(\"\\nMedian:\", ratings.median())\n",
    "    print(\"\\nMean:\", ratings.mean())\n",
    "    print(\"\\n\")"
   ]
  },
  {
   "cell_type": "code",
   "execution_count": 15,
   "metadata": {},
   "outputs": [
    {
     "name": "stdout",
     "output_type": "stream",
     "text": [
      "\n",
      "Movie: Five Easy Pieces (1970)\n",
      "\n",
      "Mode: 5.0\n",
      "\n",
      "Median: 4.75\n",
      "\n",
      "Mean: 4.5\n",
      "\n",
      "\n",
      "\n",
      "Movie: Home Alone (1990)\n",
      "\n",
      "Mode: 3.0\n",
      "\n",
      "Median: 3.0\n",
      "\n",
      "Mean: 2.9956896551724137\n",
      "\n",
      "\n",
      "\n",
      "Movie: Police Academy: Mission to Moscow (1994)\n",
      "\n",
      "Mode: 0.5\n",
      "\n",
      "Median: 0.5\n",
      "\n",
      "Mean: 0.8\n",
      "\n",
      "\n"
     ]
    },
    {
     "name": "stderr",
     "output_type": "stream",
     "text": [
      "/usr/local/lib/python3.5/dist-packages/ipykernel_launcher.py:3: UserWarning: Boolean Series key will be reindexed to match DataFrame index.\n",
      "  This is separate from the ipykernel package so we can avoid doing imports until\n",
      "/usr/local/lib/python3.5/dist-packages/ipykernel_launcher.py:3: UserWarning: Boolean Series key will be reindexed to match DataFrame index.\n",
      "  This is separate from the ipykernel package so we can avoid doing imports until\n",
      "/usr/local/lib/python3.5/dist-packages/ipykernel_launcher.py:3: UserWarning: Boolean Series key will be reindexed to match DataFrame index.\n",
      "  This is separate from the ipykernel package so we can avoid doing imports until\n"
     ]
    }
   ],
   "source": [
    "movie_stats(4.5)\n",
    "movie_stats(3)\n",
    "movie_stats(0.8)"
   ]
  },
  {
   "cell_type": "markdown",
   "metadata": {},
   "source": [
    "## Challenge 6 by [Thais André](https://twitter.com/thais_tandre)\n",
    "\n",
    "Plot the boxplot and histogram next to each other (in the same figure or in different figures, but next to each other)."
   ]
  },
  {
   "cell_type": "code",
   "execution_count": 16,
   "metadata": {},
   "outputs": [],
   "source": [
    "def movie_plot(n):\n",
    "    find_id = 'movieId' + '==' + str(n)\n",
    "    rating_movie = movies_ratings.query(find_id)[\"rating\"]\n",
    "    \n",
    "    plt.figure(figsize = (13,8))\n",
    "    plt.subplot(1, 2, 1)\n",
    "    rating_movie.plot(kind='hist')\n",
    "    print('\\n')\n",
    "    \n",
    "    plt.subplot(1, 2, 2)\n",
    "    rating_movie.plot.box(vert=False)\n",
    "    plt.show()\n",
    "    print(rating_movie.describe())"
   ]
  },
  {
   "cell_type": "code",
   "execution_count": 17,
   "metadata": {},
   "outputs": [
    {
     "data": {
      "text/markdown": [
       "## Movie Id: 661"
      ],
      "text/plain": [
       "<IPython.core.display.Markdown object>"
      ]
     },
     "metadata": {},
     "output_type": "display_data"
    },
    {
     "name": "stdout",
     "output_type": "stream",
     "text": [
      "\n",
      "\n"
     ]
    },
    {
     "data": {
      "image/png": "[encoded data removed]",
      "text/plain": [
       "<Figure size 936x576 with 2 Axes>"
      ]
     },
     "metadata": {},
     "output_type": "display_data"
    },
    {
     "name": "stdout",
     "output_type": "stream",
     "text": [
      "count    49.00000\n",
      "mean      3.44898\n",
      "std       1.02187\n",
      "min       1.00000\n",
      "25%       3.00000\n",
      "50%       3.00000\n",
      "75%       4.00000\n",
      "max       5.00000\n",
      "Name: rating, dtype: float64\n"
     ]
    },
    {
     "data": {
      "text/markdown": [
       "## Movie Id: 3753"
      ],
      "text/plain": [
       "<IPython.core.display.Markdown object>"
      ]
     },
     "metadata": {},
     "output_type": "display_data"
    },
    {
     "name": "stdout",
     "output_type": "stream",
     "text": [
      "\n",
      "\n"
     ]
    },
    {
     "data": {
      "image/png": "[encoded data removed]",
      "text/plain": [
       "<Figure size 936x576 with 2 Axes>"
      ]
     },
     "metadata": {},
     "output_type": "display_data"
    },
    {
     "name": "stdout",
     "output_type": "stream",
     "text": [
      "count    68.000000\n",
      "mean      3.448529\n",
      "std       1.037145\n",
      "min       0.500000\n",
      "25%       3.000000\n",
      "50%       4.000000\n",
      "75%       4.000000\n",
      "max       5.000000\n",
      "Name: rating, dtype: float64\n"
     ]
    }
   ],
   "source": [
    "for ID in filtered_movies['movieId'].values[0:2]:\n",
    "    display(Markdown('## Movie Id: ' + str(ID)))\n",
    "    movie_plot(ID)"
   ]
  },
  {
   "cell_type": "markdown",
   "metadata": {},
   "source": [
    "## Challenge 7 by [Thiago Gonçalves](https://twitter.com/tgcsantos)\n",
    "\n",
    "Create a chart of average grades per year (overall average considering all films released that year)."
   ]
  },
  {
   "cell_type": "code",
   "execution_count": 18,
   "metadata": {
    "scrolled": true
   },
   "outputs": [
    {
     "data": {
      "text/html": [
       "<div>\n",
       "<style scoped>\n",
       "    .dataframe tbody tr th:only-of-type {\n",
       "        vertical-align: middle;\n",
       "    }\n",
       "\n",
       "    .dataframe tbody tr th {\n",
       "        vertical-align: top;\n",
       "    }\n",
       "\n",
       "    .dataframe thead th {\n",
       "        text-align: right;\n",
       "    }\n",
       "</style>\n",
       "<table border=\"1\" class=\"dataframe\">\n",
       "  <thead>\n",
       "    <tr style=\"text-align: right;\">\n",
       "      <th></th>\n",
       "      <th>movieId</th>\n",
       "      <th>title</th>\n",
       "      <th>genres</th>\n",
       "      <th>average_rating</th>\n",
       "      <th>number_of_ratings</th>\n",
       "      <th>year</th>\n",
       "    </tr>\n",
       "  </thead>\n",
       "  <tbody>\n",
       "    <tr>\n",
       "      <th>0</th>\n",
       "      <td>1</td>\n",
       "      <td>Toy Story</td>\n",
       "      <td>Adventure|Animation|Children|Comedy|Fantasy</td>\n",
       "      <td>3.92</td>\n",
       "      <td>215.0</td>\n",
       "      <td>1995</td>\n",
       "    </tr>\n",
       "    <tr>\n",
       "      <th>1</th>\n",
       "      <td>2</td>\n",
       "      <td>Jumanji</td>\n",
       "      <td>Adventure|Children|Fantasy</td>\n",
       "      <td>3.43</td>\n",
       "      <td>110.0</td>\n",
       "      <td>1995</td>\n",
       "    </tr>\n",
       "    <tr>\n",
       "      <th>2</th>\n",
       "      <td>3</td>\n",
       "      <td>Grumpier Old Men</td>\n",
       "      <td>Comedy|Romance</td>\n",
       "      <td>3.26</td>\n",
       "      <td>52.0</td>\n",
       "      <td>1995</td>\n",
       "    </tr>\n",
       "    <tr>\n",
       "      <th>3</th>\n",
       "      <td>4</td>\n",
       "      <td>Waiting to Exhale</td>\n",
       "      <td>Comedy|Drama|Romance</td>\n",
       "      <td>2.36</td>\n",
       "      <td>7.0</td>\n",
       "      <td>1995</td>\n",
       "    </tr>\n",
       "    <tr>\n",
       "      <th>4</th>\n",
       "      <td>5</td>\n",
       "      <td>Father of the Bride Part II</td>\n",
       "      <td>Comedy</td>\n",
       "      <td>3.07</td>\n",
       "      <td>49.0</td>\n",
       "      <td>1995</td>\n",
       "    </tr>\n",
       "  </tbody>\n",
       "</table>\n",
       "</div>"
      ],
      "text/plain": [
       "   movieId                         title  \\\n",
       "0        1                    Toy Story    \n",
       "1        2                      Jumanji    \n",
       "2        3             Grumpier Old Men    \n",
       "3        4            Waiting to Exhale    \n",
       "4        5  Father of the Bride Part II    \n",
       "\n",
       "                                        genres  average_rating  \\\n",
       "0  Adventure|Animation|Children|Comedy|Fantasy            3.92   \n",
       "1                   Adventure|Children|Fantasy            3.43   \n",
       "2                               Comedy|Romance            3.26   \n",
       "3                         Comedy|Drama|Romance            2.36   \n",
       "4                                       Comedy            3.07   \n",
       "\n",
       "   number_of_ratings  year  \n",
       "0              215.0  1995  \n",
       "1              110.0  1995  \n",
       "2               52.0  1995  \n",
       "3                7.0  1995  \n",
       "4               49.0  1995  "
      ]
     },
     "execution_count": 18,
     "metadata": {},
     "output_type": "execute_result"
    }
   ],
   "source": [
    "movies_title_year = movies.copy()\n",
    "\n",
    "movies_title_year['title'] = movies['title'].str.split('(', expand=True).loc[:,0]\n",
    "movies_title_year['year'] = movies['title'].str.extract(\"\\((\\d{4})\\)\")\n",
    "\n",
    "movies_title_year.head()"
   ]
  },
  {
   "cell_type": "code",
   "execution_count": 19,
   "metadata": {
    "scrolled": true
   },
   "outputs": [],
   "source": [
    "years = []\n",
    "years_avg = []\n",
    "\n",
    "for year in movies_title_year['year']:\n",
    "    years.append(str(year))\n",
    "\n",
    "movies_years = set(years)\n",
    "\n",
    "\n",
    "for year in movies_years:\n",
    "    year_mean = movies_title_year[movies_title_year['year'] == year]['average_rating'].mean()\n",
    "    years_avg.append(year_mean)"
   ]
  },
  {
   "cell_type": "code",
   "execution_count": 20,
   "metadata": {
    "scrolled": true
   },
   "outputs": [
    {
     "data": {
      "text/html": [
       "<div>\n",
       "<style scoped>\n",
       "    .dataframe tbody tr th:only-of-type {\n",
       "        vertical-align: middle;\n",
       "    }\n",
       "\n",
       "    .dataframe tbody tr th {\n",
       "        vertical-align: top;\n",
       "    }\n",
       "\n",
       "    .dataframe thead th {\n",
       "        text-align: right;\n",
       "    }\n",
       "</style>\n",
       "<table border=\"1\" class=\"dataframe\">\n",
       "  <thead>\n",
       "    <tr style=\"text-align: right;\">\n",
       "      <th></th>\n",
       "      <th>Average_rating_year</th>\n",
       "    </tr>\n",
       "  </thead>\n",
       "  <tbody>\n",
       "    <tr>\n",
       "      <th>1902</th>\n",
       "      <td>3.5000</td>\n",
       "    </tr>\n",
       "    <tr>\n",
       "      <th>1903</th>\n",
       "      <td>2.5000</td>\n",
       "    </tr>\n",
       "    <tr>\n",
       "      <th>1908</th>\n",
       "      <td>4.0000</td>\n",
       "    </tr>\n",
       "    <tr>\n",
       "      <th>1915</th>\n",
       "      <td>2.0000</td>\n",
       "    </tr>\n",
       "    <tr>\n",
       "      <th>1916</th>\n",
       "      <td>3.5625</td>\n",
       "    </tr>\n",
       "  </tbody>\n",
       "</table>\n",
       "</div>"
      ],
      "text/plain": [
       "      Average_rating_year\n",
       "1902               3.5000\n",
       "1903               2.5000\n",
       "1908               4.0000\n",
       "1915               2.0000\n",
       "1916               3.5625"
      ]
     },
     "execution_count": 20,
     "metadata": {},
     "output_type": "execute_result"
    }
   ],
   "source": [
    "dic_avg = {'Average_rating_year': years_avg}\n",
    "movies_avg_rating = pd.DataFrame(dic_avg, index=movies_years)\n",
    "movies_avg_rating.sort_index(inplace=True)\n",
    "\n",
    "movies_avg_rating.head()"
   ]
  },
  {
   "cell_type": "code",
   "execution_count": 21,
   "metadata": {},
   "outputs": [
    {
     "data": {
      "image/png": "[encoded data removed]",
      "text/plain": [
       "<Figure size 432x288 with 1 Axes>"
      ]
     },
     "metadata": {},
     "output_type": "display_data"
    }
   ],
   "source": [
    "movies_avg_rating.plot()\n",
    "plt.show()"
   ]
  },
  {
   "cell_type": "code",
   "execution_count": null,
   "metadata": {},
   "outputs": [],
   "source": []
  }
 ],
 "metadata": {
  "kernelspec": {
   "display_name": "Python 3",
   "language": "python",
   "name": "python3"
  },
  "language_info": {
   "codemirror_mode": {
    "name": "ipython",
    "version": 3
   },
   "file_extension": ".py",
   "mimetype": "text/x-python",
   "name": "python",
   "nbconvert_exporter": "python",
   "pygments_lexer": "ipython3",
   "version": "3.5.2"
  }
 },
 "nbformat": 4,
 "nbformat_minor": 2
}
