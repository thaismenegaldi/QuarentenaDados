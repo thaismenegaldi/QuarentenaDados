{
 "cells": [
  {
   "cell_type": "markdown",
   "metadata": {
    "colab_type": "text",
    "id": "D10crBldnKAY"
   },
   "source": [
    "# Final Challenge #QuarentenaDados"
   ]
  },
  {
   "cell_type": "markdown",
   "metadata": {
    "colab_type": "text",
    "id": "ghtfHso2hN0F"
   },
   "source": [
    "### Imported libraries"
   ]
  },
  {
   "cell_type": "code",
   "execution_count": 0,
   "metadata": {
    "colab": {},
    "colab_type": "code",
    "id": "dd9FRdVZa1G4"
   },
   "outputs": [],
   "source": [
    "import numpy as np\n",
    "import pandas as pd\n",
    "\n",
    "from sklearn.metrics import mean_squared_error\n",
    "from sklearn.linear_model import *\n",
    "from sklearn.neural_network import *\n",
    "from sklearn.tree import *\n",
    "from sklearn.svm import *\n",
    "from sklearn.neighbors import *\n",
    "from sklearn.gaussian_process import *\n",
    "from sklearn.kernel_ridge import *\n",
    "from sklearn.isotonic import *\n",
    "from sklearn.ensemble import *"
   ]
  },
  {
   "cell_type": "markdown",
   "metadata": {
    "colab_type": "text",
    "id": "NXw84csJhVhw"
   },
   "source": [
    "### Reading the data"
   ]
  },
  {
   "cell_type": "code",
   "execution_count": 0,
   "metadata": {
    "colab": {},
    "colab_type": "code",
    "id": "rzfzPE6XnKAa"
   },
   "outputs": [],
   "source": [
    "URI_TRAIN = \"https://github.com/tgcsantos/quaretenadados/blob/master/DADOS_TREINO.csv?raw=true\"\n",
    "URI_TEST = \"https://github.com/tgcsantos/quaretenadados/raw/master/DADOS_TESTE.csv\"\n",
    "URI_CHALLENGEQT = \"https://github.com/tgcsantos/quaretenadados/raw/master/DESAFIOQT.csv\"\n",
    "\n",
    "train_data = pd.read_csv(URI_TRAIN)\n",
    "test_data = pd.read_csv(URI_TEST)\n",
    "challengeqt_data = pd.read_csv(URI_CHALLENGEQT)\n",
    "\n",
    "train_error = \"Error while loading training data\"\n",
    "test_error = \"Error while loading testing data\"\n",
    "challengeqt_error = \"Error while loading submission data\"\n",
    "\n",
    "assert train_data.shape == (150000, 5), train_error\n",
    "assert test_data.shape == (20000, 5), test_error\n",
    "assert challengeqt_data.shape == (10000, 5), challengeqt_error"
   ]
  },
  {
   "cell_type": "markdown",
   "metadata": {
    "colab_type": "text",
    "id": "m3fHcf10hcrA"
   },
   "source": [
    "### Division of data into training and test sets"
   ]
  },
  {
   "cell_type": "code",
   "execution_count": 0,
   "metadata": {
    "colab": {},
    "colab_type": "code",
    "id": "j8jZqk4ZnKAh"
   },
   "outputs": [],
   "source": [
    "column_label = 'NU_NOTA_LC'\n",
    "column_features = ['NU_NOTA_CN', 'NU_NOTA_CH', 'NU_NOTA_MT', 'NU_NOTA_REDACAO']\n",
    "\n",
    "X_train = dados_treino[column_features].to_numpy()\n",
    "Y_train = dados_treino[column_label].to_numpy()\n",
    "X_test = dados_teste[column_features].to_numpy()\n",
    "Y_test = dados_teste[column_label].to_numpy()"
   ]
  },
  {
   "cell_type": "markdown",
   "metadata": {
    "colab_type": "text",
    "id": "tkBAcuA-hi39"
   },
   "source": [
    "### Ensemble training consisting of regression models Random Forest e Multilayer Perceptron (MLP)"
   ]
  },
  {
   "cell_type": "code",
   "execution_count": 0,
   "metadata": {
    "colab": {
     "base_uri": "https://localhost:8080/",
     "height": 33
    },
    "colab_type": "code",
    "id": "kou4TMqCL-kp",
    "outputId": "ca25d917-cc60-4af0-9230-e3f22c88d083"
   },
   "outputs": [
    {
     "name": "stdout",
     "output_type": "stream",
     "text": [
      "2052.4518367697956\n"
     ]
    }
   ],
   "source": [
    "m1 = MLPRegressor(max_iter = 500, learning_rate_init = 0.004, hidden_layer_sizes = (20,), random_state = 24, learning_rate = 'invscaling', solver = 'adam', batch_size = 64)\n",
    "m2 = RandomForestRegressor(n_estimators=89, max_depth=10, max_features='sqrt', random_state=23)\n",
    "\n",
    "models = [('lr', m1), ('rf', m2)]\n",
    "ensemble = VotingRegressor(models)\n",
    "ensemble.fit(X_train, Y_train)\n",
    "predictions = ensemble.predict(X_test)\n",
    "mse = mean_squared_error(Y_test, predictions)\n",
    "print(mse)"
   ]
  },
  {
   "cell_type": "markdown",
   "metadata": {
    "colab_type": "text",
    "id": "jzyCheNOh3lT"
   },
   "source": [
    "### Creation of the output file containing the result"
   ]
  },
  {
   "cell_type": "code",
   "execution_count": 0,
   "metadata": {
    "colab": {},
    "colab_type": "code",
    "id": "-ThohLM3WKUI"
   },
   "outputs": [],
   "source": [
    "from google.colab import files\n",
    "\n",
    "MODELO = ensemble\n",
    "X_desafioqt = dados_desafioqt[coluna_features].to_numpy()\n",
    "predicao_desafioqt = ensemble.predict(X_desafioqt)\n",
    "\n",
    "desafio_df = pd.DataFrame(dados_desafioqt.ID)\n",
    "desafio_df[coluna_label] = predicao_desafioqt\n",
    "\n",
    "desafio_df.to_csv('PREDICAO_DESAFIOQT.csv', index=False) \n",
    "files.download('PREDICAO_DESAFIOQT.csv')"
   ]
  }
 ],
 "metadata": {
  "accelerator": "GPU",
  "colab": {
   "collapsed_sections": [],
   "name": "Desafio Nintendo Switch - Thais.ipynb",
   "provenance": []
  },
  "kernelspec": {
   "display_name": "Python 3",
   "language": "python",
   "name": "python3"
  },
  "language_info": {
   "codemirror_mode": {
    "name": "ipython",
    "version": 3
   },
   "file_extension": ".py",
   "mimetype": "text/x-python",
   "name": "python",
   "nbconvert_exporter": "python",
   "pygments_lexer": "ipython3",
   "version": "3.5.2"
  }
 },
 "nbformat": 4,
 "nbformat_minor": 1
}
